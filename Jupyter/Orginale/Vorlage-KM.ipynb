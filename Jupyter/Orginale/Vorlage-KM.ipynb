{
 "cells": [
  {
   "cell_type": "markdown",
   "metadata": {},
   "source": [
    "# 1. Datenimport, -darstellung und -visualisierung"
   ]
  },
  {
   "cell_type": "markdown",
   "metadata": {},
   "source": [
    "## 1.1 Import der Funktionsbibliotheken"
   ]
  },
  {
   "cell_type": "code",
   "execution_count": null,
   "metadata": {},
   "outputs": [],
   "source": [
    "import pandas as pd\n",
    "import numpy as np\n",
    "#pd.set_option(\"display.max_columns\", None)\n",
    "#import matplotlib\n",
    "import matplotlib.pyplot as plt\n",
    "import seaborn as sns\n",
    "\n"
   ]
  },
  {
   "cell_type": "markdown",
   "metadata": {},
   "source": [
    "## 1.2 Import der CSV-Datei"
   ]
  },
  {
   "cell_type": "code",
   "execution_count": null,
   "metadata": {},
   "outputs": [],
   "source": [
    "# Dateiname soll angepasst werden\n",
    "# Parameter zum Auslesen der CSV sollen bei Bedarf angepasst werden (s. zwei Bespielparameter)"
   ]
  },
  {
   "cell_type": "code",
   "execution_count": null,
   "metadata": {},
   "outputs": [],
   "source": [
    "# KM: Stundenwerte des Stromverbrauchs der Kältemaschinen (kWh)\n",
    "# T : Außenlufttemperatur (°C) \n",
    "# F : Absolute Außenluftfeuchte (g/kg)\n",
    "# E : spezische Enthalpie der Außenluft (kJ/kg)\n",
    "# G : Globalstrahlung (W/m²)"
   ]
  },
  {
   "cell_type": "code",
   "execution_count": null,
   "metadata": {},
   "outputs": [],
   "source": [
    "file = \"energydata_complete.csv\"\n",
    "\n",
    "# Auslesen der CSV-Datei + Erstellung Dataframe (df)\n",
    "\n",
    "#df = pd.read_csv(file, parse_dates=['date'], decimal=',')\n",
    "df = pd.read_csv(file, parse_dates=['date'], decimal=',', sep=';')\n",
    "\n",
    "# Kleinbuchstaben für Spaltennamen (optional)\n",
    "df.columns = [x.lower() for x in df.columns]\n",
    "\n",
    "# Setze Spalte 'date' als \"Datetime-Index\" für Dataframe\n",
    "df = df.set_index('date')"
   ]
  },
  {
   "cell_type": "markdown",
   "metadata": {},
   "source": [
    "## 1.3 Ausdruck vom Datensatz"
   ]
  },
  {
   "cell_type": "code",
   "execution_count": null,
   "metadata": {
    "scrolled": true
   },
   "outputs": [],
   "source": [
    "print(df)"
   ]
  },
  {
   "cell_type": "markdown",
   "metadata": {},
   "source": [
    "## 1.4  Statistische Kennwerte des Datensatzes"
   ]
  },
  {
   "cell_type": "code",
   "execution_count": null,
   "metadata": {
    "scrolled": true
   },
   "outputs": [],
   "source": [
    "df.describe()\n",
    "#count= Anzahl der Werte\n",
    "#mean= Durchschnitt der Werte\n",
    "#std= Standardabweichung der Werte\n",
    "#min= minimaler Wert\n",
    "#25%= 25%-Quantil (25 % aller Werte liegen unterhalb dieses Wertes)\n",
    "#50%= 50%-Quantil (50 % aller Werte liegen unterhalb dieses Wertes)\n",
    "#75%= 75%-Quantil (75 % aller Werte liegen unterhalb dieses Wertes)\n",
    "#max= maximaler Wert"
   ]
  },
  {
   "cell_type": "markdown",
   "metadata": {},
   "source": [
    "## 1.5 Visualisierung des Ausgabewerts"
   ]
  },
  {
   "cell_type": "code",
   "execution_count": null,
   "metadata": {},
   "outputs": [],
   "source": [
    "#Anpassung der Diagramgröße (optional)\n",
    "\n",
    "#from pandas.plotting import register_matplotlib_converters\n",
    "#register_matplotlib_converters()\n",
    "#plt.figure(figsize=(10,6))\n",
    "\n",
    "plt.plot(df.km)\n",
    "\n",
    "plt.xticks( rotation='45')\n",
    "plt.xlabel('Datum')\n",
    "plt.ylabel('Stromverbrauch Kältemaschinen [kWh]')"
   ]
  },
  {
   "cell_type": "markdown",
   "metadata": {},
   "source": [
    "# 2. Datenvorverarbeitung"
   ]
  },
  {
   "cell_type": "markdown",
   "metadata": {},
   "source": [
    "## 2.1 Ausreißererkennung und -entfernung"
   ]
  },
  {
   "cell_type": "markdown",
   "metadata": {},
   "source": [
    "### 2.1.1 Detektion von Ausreißern"
   ]
  },
  {
   "cell_type": "code",
   "execution_count": null,
   "metadata": {
    "scrolled": true
   },
   "outputs": [],
   "source": [
    "# Sortiere Ausgabewert nach Größe (absteigend)\n",
    "sorted_km_up = df.sort_values('km',ascending=False)\n",
    "upper_treshold=sorted_km_up.km[len(sorted_km_up.head(len(sorted_km_up)//1000))]\n",
    "# Sortiere Ausgabewert nach Größe (aufsteigend)\n",
    "sorted_km_down = df.sort_values('km',ascending=True)\n",
    "lower_treshold=sorted_km_down.km[len(sorted_km_down.head(len(sorted_km_down)//1000))]"
   ]
  },
  {
   "cell_type": "code",
   "execution_count": null,
   "metadata": {},
   "outputs": [],
   "source": [
    "# Boxplot\n",
    "sns.set(style=\"whitegrid\")\n",
    "ax = sns.boxplot(df.km)"
   ]
  },
  {
   "cell_type": "code",
   "execution_count": null,
   "metadata": {
    "scrolled": false
   },
   "outputs": [],
   "source": [
    "print(\"Das 99,9%-Perzentil des Ausgabewerts beträgt\",\n",
    "      upper_treshold,\"kWh,\",len(sorted_km_up.head(len(sorted_km_up)//1000)),\"Werte liegen oberhalb diesen Wertes.\")"
   ]
  },
  {
   "cell_type": "code",
   "execution_count": null,
   "metadata": {},
   "outputs": [],
   "source": [
    "print(\"Das 0,01%-Perzentil des Ausgabewerts beträgt\",\n",
    "      lower_treshold,\"kWh,\",len(sorted_km_down.head(len(sorted_km_down)//1000)),\"Werte liegen unterhalb diesen Wertes.\")"
   ]
  },
  {
   "cell_type": "markdown",
   "metadata": {},
   "source": [
    "### 2.1.2 Entfernung der Ausreißer"
   ]
  },
  {
   "cell_type": "code",
   "execution_count": null,
   "metadata": {},
   "outputs": [],
   "source": [
    "# Entferne Werte aus dem Datensatz ober und unterhalb der festgelegten Grenze\n",
    "df = df.dropna()\n",
    "df = df.drop(df[(df.km>upper_treshold)|(df.km<lower_treshold)].index)"
   ]
  },
  {
   "cell_type": "markdown",
   "metadata": {},
   "source": [
    "### 2.1.3 Visualisierung des bereinigten Ausgabewerts"
   ]
  },
  {
   "cell_type": "code",
   "execution_count": null,
   "metadata": {},
   "outputs": [],
   "source": [
    "#Anpassung der Diagramgröße (optional)\n",
    "#plt.figure(figsize=(16,6))\n",
    "\n",
    "plt.plot(df.km)\n",
    "plt.xticks( rotation='45')\n",
    "plt.xlabel('Datum')\n",
    "plt.ylabel('Stromverbrauch Kältemaschinen [kWh]')"
   ]
  },
  {
   "cell_type": "markdown",
   "metadata": {},
   "source": [
    "## 2.2 Merkmalsextraktion"
   ]
  },
  {
   "cell_type": "code",
   "execution_count": null,
   "metadata": {},
   "outputs": [],
   "source": [
    "# Hänge weitere Spalten an den Dataframe via Datetime-Index\n",
    "\n",
    "df['month'] = df.index.month\n",
    "df['week'] = df.index.week\n",
    "\n",
    "df['weekday'] = df.index.weekday\n",
    "df['hour'] = df.index.hour\n",
    "\n",
    "print (df)"
   ]
  },
  {
   "cell_type": "markdown",
   "metadata": {},
   "source": [
    "## 2.3 Datenaggregation und -visualisierung"
   ]
  },
  {
   "cell_type": "code",
   "execution_count": null,
   "metadata": {},
   "outputs": [],
   "source": [
    "# Durchschnittswert je Tagesstunde\n",
    "def hourly(x,df=df):\n",
    "    return df.groupby('hour')[x].mean()\n",
    "\n",
    "# Durchschnittswert je Wochentag\n",
    "def daily(x,df=df):\n",
    "    return df.groupby('weekday')[x].mean()\n",
    "    \n",
    "# Durchschnittswert je Wochentag und Monat\n",
    "#def monthly_daily(x,df=df):\n",
    "#    by_day = df.pivot_table(index='weekday', \n",
    "#                                columns=['month'],\n",
    "#                                values=x,\n",
    "#                                aggfunc='mean')\n",
    "#    return round(by_day, ndigits=1)\n",
    "#\n",
    "# Durchschnittswert je Wochentag und Monat\n",
    "#def daily_hourly(x,df=df):\n",
    "#    by_day_hour = df.pivot_table(index='weekday', \n",
    "#                                columns=['hour'],\n",
    "#                                values=x,\n",
    "#                                aggfunc='mean')\n",
    "#   return round(by_day_hour, ndigits=0)\n",
    "\n",
    "\n",
    "# Durchschnittswert je Wochentag und Tagesstunde\n",
    "def code_mean(data, cat_feature, real_feature):\n",
    "    return dict(data.groupby(cat_feature)[real_feature].mean())\n",
    "\n",
    "df['weekday_avg'] = list(map(code_mean(df[:], 'weekday', \"km\").get, df.weekday))\n",
    "df['hour_avg'] = list(map(code_mean(df[:], 'hour', \"km\").get, df.hour))\n",
    "#df.describe()"
   ]
  },
  {
   "cell_type": "markdown",
   "metadata": {},
   "source": [
    "### 2.3.1 Mittelwert je Wochentag"
   ]
  },
  {
   "cell_type": "code",
   "execution_count": null,
   "metadata": {},
   "outputs": [],
   "source": [
    "# Diagramm: Mittlerer Stromverbrauch Kältemaschinen je Wochentag\n",
    "\n",
    "ticks = list(range(0, 7, 1)) \n",
    "\n",
    "daily('km').plot(kind = 'bar', figsize=(10,8))\n",
    "\n",
    "labels = \"Montag Dienstag Mittwoch Donnerstag Freitag Samstag Sonntag\".split()\n",
    "plt.xlabel('Wochentag')\n",
    "plt.ylabel('Stromverbrauch Kältemaschinen [kWh]')\n",
    "plt.title('Mittlerer Stromverbrauch Kältemaschinen je Wochentag')\n",
    "plt.xticks(ticks, labels,rotation='0');"
   ]
  },
  {
   "cell_type": "markdown",
   "metadata": {},
   "source": [
    "### 2.3.3 Mittelwert je Wochentag und Tagesstunde"
   ]
  },
  {
   "cell_type": "code",
   "execution_count": null,
   "metadata": {
    "scrolled": true
   },
   "outputs": [],
   "source": [
    "# Diagramm: Mittlerer Stromverbrauch Kältemaschinen je Tagesstunde\n",
    "\n",
    "hourly('km').plot(figsize=(5,4))\n",
    "plt.xlabel('Tagesstunde')\n",
    "plt.ylabel('Stromverbrauch Kältemaschinen [kWh]')\n",
    "ticks = list(range(0, 24, 1))\n",
    "plt.title('Mittlerer Stromverbrauch Kältemaschinen je Tagesstunde')\n",
    "\n",
    "plt.xticks(ticks);"
   ]
  },
  {
   "cell_type": "markdown",
   "metadata": {},
   "source": [
    "### 2.3.4 Mittelwert je Wochentag und Stunde (Heatmap)"
   ]
  },
  {
   "cell_type": "code",
   "execution_count": null,
   "metadata": {
    "scrolled": false
   },
   "outputs": [],
   "source": [
    "# Heatmap: Mittlerer Stromverbrauch Kältemaschinen je Wochentag und Stunde\n",
    "#sns.set(rc={'figure.figsize':(10,8)},)\n",
    "#ax=sns.heatmap(daily_hourly('km').T,cmap=\"YlGnBu\",\n",
    "#               xticklabels=\"Mo Di Mi Do Fr Sa So\".split(),\n",
    "#               yticklabels=list(range(0, 24, 1)),\n",
    "#               annot=True, fmt='g',\n",
    "#               cbar_kws={'label': 'Stromverbrauch Kältemaschinen [kWh]'}).set_title(\"Mittlerer Stromverbrauch Kältemaschinen je Wochentag und Stunde\").set_fontsize('15')\n",
    "#b, t = plt.ylim()\n",
    "#b += 0.5\n",
    "#t -= 0.5\n",
    "#plt.ylim(b, t)\n",
    "#plt.show()\n"
   ]
  },
  {
   "cell_type": "markdown",
   "metadata": {},
   "source": [
    "## 2.4 Log-Transformation und Histogramm"
   ]
  },
  {
   "cell_type": "code",
   "execution_count": null,
   "metadata": {},
   "outputs": [],
   "source": [
    "# Logarithmische Transformation der Werte\n",
    "# Die Log-Transformation ordnet jedem ursprünglichen Wert als transformierten Wert\n",
    "# den entsprechenden natürlichen Logarithmus dieses Werts zu.\n",
    "#df['log_km'] = np.log(df.km)"
   ]
  },
  {
   "cell_type": "code",
   "execution_count": null,
   "metadata": {},
   "outputs": [],
   "source": [
    "#f, axes = plt.subplots(1, 2,figsize=(10,4))\n",
    "\n",
    "# Histogramm Ausgabewert\n",
    "#sns.distplot(df.km, hist=True, color = 'blue',hist_kws={'edgecolor':'black'},ax=axes[0])\n",
    "#axes[0].set_title(\"km's consumption\")\n",
    "#axes[0].set_xlabel('km [kWh]')\n",
    "\n",
    "# Histogramm des Log-transformierten Ausgabewerts\n",
    "#sns.distplot(df.log_km, hist=True, color = 'blue',hist_kws={'edgecolor':'black'},ax=axes[1])\n",
    "#axes[1].set_title(\"Log km's consumption\")\n",
    "#axes[1].set_xlabel('km_log [kWh]')"
   ]
  },
  {
   "cell_type": "markdown",
   "metadata": {},
   "source": [
    "## 2.5 Visualisierung linearer Abhängigkeiten zwischen den Merkmalen"
   ]
  },
  {
   "cell_type": "code",
   "execution_count": null,
   "metadata": {
    "scrolled": false
   },
   "outputs": [],
   "source": [
    "col = ['km', 't', 'f', 'e', 'g', 'hour',]\n",
    "sns.set(style=\"ticks\", color_codes=True)\n",
    "sns.pairplot(df[col])\n",
    "plt.show()"
   ]
  },
  {
   "cell_type": "markdown",
   "metadata": {},
   "source": [
    "# 3. Prognose-Modelle"
   ]
  },
  {
   "cell_type": "markdown",
   "metadata": {},
   "source": [
    "## 3.1 Anlegen der Modelle und Zuordnung der Merkmale"
   ]
  },
  {
   "cell_type": "code",
   "execution_count": null,
   "metadata": {},
   "outputs": [],
   "source": [
    "# Lineares Regressions-Modell\n",
    "model1 = ['hour','t','f','e','g']\n",
    "\n",
    "# Support Vector Machines-Modell\n",
    "#model2=['hour','t','f','e','g']\n",
    "\n",
    "# Random Forest-Modell\n",
    "model3 = ['hour','t','f','e','g']\n",
    "\n",
    "# k-Nearest Neighbours-Modell\n",
    "#model4=['hour','t','f','e','g']"
   ]
  },
  {
   "cell_type": "markdown",
   "metadata": {},
   "source": [
    "## 3.2 Umwandlung der Zahlenformate"
   ]
  },
  {
   "cell_type": "code",
   "execution_count": null,
   "metadata": {},
   "outputs": [],
   "source": [
    "# Umandlung Zahlenformat\n",
    "#df.log_km = df.log_km.astype(float)\n",
    "\n",
    "df.km = df.km.astype(float)\n",
    "df.hour = df.hour.astype(float)\n",
    "df.t = df.t.astype(float)\n",
    "df.f = df.f.astype(float)\n",
    "df.e = df.e.astype(float)\n",
    "df.g = df.g.astype(float)"
   ]
  },
  {
   "cell_type": "markdown",
   "metadata": {},
   "source": [
    "## 3.3 Aufteilung in Test- und Trainingsdaten"
   ]
  },
  {
   "cell_type": "code",
   "execution_count": null,
   "metadata": {},
   "outputs": [],
   "source": [
    "# Erstelle Test- und Trainingsmodell\n",
    "\n",
    "test_size=.3321 # 1/3 des gesamten Datensatzes für Testdaten, 2/3 des gesamten Datensatzes für Training\n",
    "test_index = int(len(df.dropna())*(1-test_size))\n",
    "\n",
    "# Lineares Regressions-Modell\n",
    "X1_train, X1_test = df[model1].iloc[:test_index,], df[model1].iloc[test_index:,]\n",
    "#y1_train = df.log_km.iloc[:test_index,]\n",
    "y1_train = df.km.iloc[:test_index,]\n",
    "\n",
    "# Support Vector Machines-Modell\n",
    "#X2_train, X2_test = df[model2].iloc[:test_index,], df[model2].iloc[test_index:,]\n",
    "#y2_train = df.log_km.iloc[:test_index,]\n",
    "#y2_train = df.km.iloc[:test_index,]\n",
    "\n",
    "# Random Forest-Modell\n",
    "X3_train, X3_test = df[model3].iloc[:test_index,], df[model3].iloc[test_index:,]\n",
    "#y3_train = df.log_km.iloc[:test_index,]\n",
    "y3_train = df.km.iloc[:test_index,]\n",
    "\n",
    "# k-Nearest Neighbours-Modell\n",
    "#X4_train, X4_test = df[model4].iloc[:test_index,], df[model4].iloc[test_index:,]\n",
    "#y4_train = df.log_km.iloc[:test_index,]\n",
    "#y4_train = df.km.iloc[:test_index,]\n",
    "\n",
    "\n",
    "#y_test =  df.log_km.iloc[test_index:,]\n",
    "y_test =  df.km.iloc[test_index:,]"
   ]
  },
  {
   "cell_type": "code",
   "execution_count": null,
   "metadata": {},
   "outputs": [],
   "source": [
    "test_index"
   ]
  },
  {
   "cell_type": "markdown",
   "metadata": {},
   "source": [
    "## 3.4 Normalisierung der Merkmale"
   ]
  },
  {
   "cell_type": "code",
   "execution_count": null,
   "metadata": {},
   "outputs": [],
   "source": [
    "from sklearn.preprocessing import StandardScaler\n",
    "\n",
    "# Normalisierung der Merkmals-Trainingsdaten sodass Durchschnittswert = 0 und Standardabweichung = 1\n",
    "\n",
    "scaler = StandardScaler()\n",
    "scaler.fit(X1_train)\n",
    "X1_train = scaler.transform(X1_train)\n",
    "X1_test = scaler.transform(X1_test)\n",
    "\n",
    "#scaler.fit(X2_train)\n",
    "#X2_train = scaler.transform(X2_train)\n",
    "#X2_test = scaler.transform(X2_test)\n",
    "\n",
    "scaler.fit(X3_train)\n",
    "X3_train = scaler.transform(X3_train)\n",
    "X3_test = scaler.transform(X3_test)\n",
    "\n",
    "#scaler.fit(X4_train)\n",
    "#X4_train = scaler.transform(X4_train)\n",
    "#X4_test = scaler.transform(X4_test)"
   ]
  },
  {
   "cell_type": "markdown",
   "metadata": {},
   "source": [
    "## 3.5 Trainieren der Regressionsmodelle mit Standardeinstellungen"
   ]
  },
  {
   "cell_type": "code",
   "execution_count": null,
   "metadata": {},
   "outputs": [],
   "source": [
    "from sklearn import linear_model\n",
    "\n",
    "lin_model = linear_model.LinearRegression()\n",
    "lin_model.fit(X1_train,y1_train)"
   ]
  },
  {
   "cell_type": "code",
   "execution_count": null,
   "metadata": {},
   "outputs": [],
   "source": [
    "#from sklearn import svm\n",
    "\n",
    "#svr_model = svm.SVR(gamma='scale')\n",
    "#svr_model.fit(X2_train,y2_train)"
   ]
  },
  {
   "cell_type": "code",
   "execution_count": null,
   "metadata": {},
   "outputs": [],
   "source": [
    "from sklearn.ensemble import RandomForestRegressor\n",
    "\n",
    "rf_model = RandomForestRegressor(n_estimators=100,random_state=1)            \n",
    "rf_model.fit(X3_train, y3_train)"
   ]
  },
  {
   "cell_type": "code",
   "execution_count": null,
   "metadata": {
    "scrolled": true
   },
   "outputs": [],
   "source": [
    "#from sklearn.neighbors import KNeighborsRegressor\n",
    "\n",
    "#weights='uniform', p=1, algorithm='auto', leaf_size=30\n",
    "#kNN_model = KNeighborsRegressor(n_neighbors=100)            \n",
    "#kNN_model.fit(X4_train, y4_train)"
   ]
  },
  {
   "cell_type": "markdown",
   "metadata": {},
   "source": [
    "# 4. Modellevaluation"
   ]
  },
  {
   "cell_type": "code",
   "execution_count": null,
   "metadata": {},
   "outputs": [],
   "source": [
    "#from sklearn.model_selection import TimeSeriesSplit\n",
    "from sklearn.metrics import mean_squared_error, r2_score\n",
    "from sklearn.model_selection import cross_val_score, cross_val_predict\n",
    "from sklearn import metrics\n",
    "from math import sqrt"
   ]
  },
  {
   "cell_type": "markdown",
   "metadata": {},
   "source": [
    "## 4.1 Modellevaluation - Rechnerisch"
   ]
  },
  {
   "cell_type": "markdown",
   "metadata": {},
   "source": [
    "### 4.1.1 Berechnung der Evaluationsmetriken"
   ]
  },
  {
   "cell_type": "code",
   "execution_count": null,
   "metadata": {},
   "outputs": [],
   "source": [
    "# Bewertung der Prognosegüte mittels MAE, MAPE, R^2, Modellgenauigkeit\n",
    "\n",
    "def evaluate(model, test_features, test_labels):\n",
    "    predictions = model.predict(test_features)\n",
    "    errors = abs(predictions - test_labels)\n",
    "    mape = 100 * np.mean(errors / test_labels)\n",
    "    r_score = 100*r2_score(test_labels,predictions)\n",
    "    accuracy = 100 - mape\n",
    "    rmse = sqrt(mean_squared_error(test_labels, predictions))\n",
    "    print(model,'\\n')\n",
    "    print('MAE                  : {:0.2f} degrees'.format(np.mean(errors)))\n",
    "    print('MAPE                 : {:0.2f}%'.format(mape))\n",
    "    print('RMSE                 : {:0.2f} degrees'.format(rmse))\n",
    "    print('Bestimmtheitsmaß R^2 : {:0.2f}%' .format(r_score))\n",
    "    print('Modellgenauigkeit    : {:0.2f}%\\n'.format(accuracy))"
   ]
  },
  {
   "cell_type": "code",
   "execution_count": null,
   "metadata": {},
   "outputs": [],
   "source": [
    "evaluate(lin_model, X1_test, y_test)\n",
    "#evaluate(svr_model, X2_test, y_test)\n",
    "evaluate(rf_model, X3_test, y_test)\n",
    "#evaluate(kNN_model, X4_test, y_test)"
   ]
  },
  {
   "cell_type": "markdown",
   "metadata": {},
   "source": [
    "## 4.2 Modellevaluation - Visuell"
   ]
  },
  {
   "cell_type": "code",
   "execution_count": null,
   "metadata": {},
   "outputs": [],
   "source": [
    "y1_pred = lin_model.predict(X1_test)\n",
    "#y2_pred = svr_model.predict(X2_test)\n",
    "y3_pred = rf_model.predict(X3_test)\n",
    "#y4_pred = kNN_model.predict(X4_test)"
   ]
  },
  {
   "cell_type": "markdown",
   "metadata": {},
   "source": [
    "### 4.2.2 Gegenüberstellung prognostizierte und tatsächliche Ausgabewerte - Streudiagramm"
   ]
  },
  {
   "cell_type": "code",
   "execution_count": null,
   "metadata": {},
   "outputs": [],
   "source": [
    "fig, axs = plt.subplots(1, 4, figsize=(12,4), sharey=True)\n",
    "axs[0].scatter(y1_pred,y_test,s=1)\n",
    "axs[0].set_title('Lineare Regression')\n",
    "#axs[1].scatter(y2_pred,y_test,s=1)\n",
    "#axs[1].set_title('Support Vector Machines')\n",
    "axs[2].scatter(y3_pred,y_test,s=1)\n",
    "axs[2].set_title('Random Forest')\n",
    "#axs[3].scatter(y4_pred,y_test,s=1)\n",
    "#axs[3].set_title('k-Nearest Neighbour')\n",
    "fig.text(0.06, 0.5, 'Prognostizierte Ausgabewerte', ha='center', va='center', rotation='vertical')\n",
    "fig.text(0.5, 0.01,'Tatsächliche Ausgabewerte', ha='center', va='center')"
   ]
  },
  {
   "cell_type": "markdown",
   "metadata": {},
   "source": [
    "### 4.2.3 Gegenüberstellung prognostizierte und tatsächliche Ausgabewerte - Jahresverlauf"
   ]
  },
  {
   "cell_type": "code",
   "execution_count": null,
   "metadata": {},
   "outputs": [],
   "source": [
    "fig = plt.figure(figsize=(20,8))\n",
    "plt.plot(y_test.values,label='Tatsächlicher Ausgabewert',color='b')\n",
    "plt.plot(y1_pred,label='Prognose Lineares Regressions-Modell', linestyle='--', color='y')\n",
    "\n",
    "plt.plot(y3_pred,label='Prognose Random Forest-Modell', linestyle='--', color='r')\n",
    "\n",
    "\n",
    "\n",
    "\n",
    "plt.legend(loc=1)"
   ]
  },
  {
   "cell_type": "code",
   "execution_count": null,
   "metadata": {},
   "outputs": [],
   "source": [
    "#fig = plt.figure(figsize=(20,8))\n",
    "#plt.plot(y_test.values,label='Tatsächlicher Ausgabewert',color='b')\n",
    "\n",
    "#plt.plot(y2_pred,label='Prognose Support Vector Machines-Modell', linestyle='--', color='g')\n",
    "#plt.plot(y4_pred,label='Prognose k-Nearest Neighbour-Modell', linestyle='--', color='k')\n",
    "\n",
    "\n",
    "\n",
    "#plt.legend(loc=1)"
   ]
  }
 ],
 "metadata": {
  "kernelspec": {
   "display_name": "Python 3",
   "language": "python",
   "name": "python3"
  },
  "language_info": {
   "codemirror_mode": {
    "name": "ipython",
    "version": 3
   },
   "file_extension": ".py",
   "mimetype": "text/x-python",
   "name": "python",
   "nbconvert_exporter": "python",
   "pygments_lexer": "ipython3",
   "version": "3.8.5"
  }
 },
 "nbformat": 4,
 "nbformat_minor": 2
}
